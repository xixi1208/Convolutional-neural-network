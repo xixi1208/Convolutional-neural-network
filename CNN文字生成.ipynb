{
 "cells": [
  {
   "cell_type": "code",
   "execution_count": 3,
   "metadata": {},
   "outputs": [
    {
     "ename": "ModuleNotFoundError",
     "evalue": "No module named 'unidecode'",
     "output_type": "error",
     "traceback": [
      "\u001b[1;31m---------------------------------------------------------------------------\u001b[0m",
      "\u001b[1;31mModuleNotFoundError\u001b[0m                       Traceback (most recent call last)",
      "\u001b[1;32m<ipython-input-3-c223cbe4feb2>\u001b[0m in \u001b[0;36m<module>\u001b[1;34m\u001b[0m\n\u001b[0;32m      1\u001b[0m \u001b[1;32mimport\u001b[0m \u001b[0mtime\u001b[0m\u001b[1;33m\u001b[0m\u001b[1;33m\u001b[0m\u001b[0m\n\u001b[1;32m----> 2\u001b[1;33m \u001b[1;32mimport\u001b[0m \u001b[0munidecode\u001b[0m\u001b[1;33m\u001b[0m\u001b[1;33m\u001b[0m\u001b[0m\n\u001b[0m\u001b[0;32m      3\u001b[0m \u001b[1;32mimport\u001b[0m \u001b[0mstring\u001b[0m\u001b[1;33m\u001b[0m\u001b[1;33m\u001b[0m\u001b[0m\n\u001b[0;32m      4\u001b[0m \u001b[1;32mimport\u001b[0m \u001b[0mrandom\u001b[0m\u001b[1;33m\u001b[0m\u001b[1;33m\u001b[0m\u001b[0m\n\u001b[0;32m      5\u001b[0m \u001b[1;32mimport\u001b[0m \u001b[0mtorch\u001b[0m\u001b[1;33m\u001b[0m\u001b[1;33m\u001b[0m\u001b[0m\n",
      "\u001b[1;31mModuleNotFoundError\u001b[0m: No module named 'unidecode'"
     ]
    }
   ],
   "source": [
    "import time\n",
    "import unidecode\n",
    "import string\n",
    "import random\n",
    "import torch\n",
    "\n",
    "import torch.nn as nn\n",
    "from torch.optim import lr_scheduler"
   ]
  },
  {
   "cell_type": "code",
   "execution_count": 4,
   "metadata": {},
   "outputs": [
    {
     "ename": "NameError",
     "evalue": "name 'unidecode' is not defined",
     "output_type": "error",
     "traceback": [
      "\u001b[1;31m---------------------------------------------------------------------------\u001b[0m",
      "\u001b[1;31mNameError\u001b[0m                                 Traceback (most recent call last)",
      "\u001b[1;32m<ipython-input-4-7e4cbd6e995f>\u001b[0m in \u001b[0;36m<module>\u001b[1;34m\u001b[0m\n\u001b[1;32m----> 1\u001b[1;33m \u001b[0mtext\u001b[0m \u001b[1;33m=\u001b[0m \u001b[0munidecode\u001b[0m\u001b[1;33m.\u001b[0m\u001b[0munidecode\u001b[0m\u001b[1;33m(\u001b[0m\u001b[0mopen\u001b[0m\u001b[1;33m(\u001b[0m\u001b[1;34m'shakespeare.txt'\u001b[0m\u001b[1;33m)\u001b[0m\u001b[1;33m.\u001b[0m\u001b[0mread\u001b[0m\u001b[1;33m(\u001b[0m\u001b[1;33m)\u001b[0m\u001b[1;33m)\u001b[0m\u001b[1;33m\u001b[0m\u001b[1;33m\u001b[0m\u001b[0m\n\u001b[0m\u001b[0;32m      2\u001b[0m \u001b[0mtext_len\u001b[0m \u001b[1;33m=\u001b[0m \u001b[0mlen\u001b[0m\u001b[1;33m(\u001b[0m\u001b[0mtext\u001b[0m\u001b[1;33m)\u001b[0m\u001b[1;33m\u001b[0m\u001b[1;33m\u001b[0m\u001b[0m\n\u001b[0;32m      3\u001b[0m \u001b[1;33m\u001b[0m\u001b[0m\n\u001b[0;32m      4\u001b[0m \u001b[0mtext\u001b[0m\u001b[1;33m[\u001b[0m\u001b[1;36m0\u001b[0m\u001b[1;33m:\u001b[0m\u001b[1;36m100\u001b[0m\u001b[1;33m]\u001b[0m\u001b[1;33m\u001b[0m\u001b[1;33m\u001b[0m\u001b[0m\n\u001b[0;32m      5\u001b[0m \u001b[1;33m\u001b[0m\u001b[0m\n",
      "\u001b[1;31mNameError\u001b[0m: name 'unidecode' is not defined"
     ]
    }
   ],
   "source": [
    "text = unidecode.unidecode(open('shakespeare.txt').read())\n",
    "text_len = len(text)\n",
    "\n",
    "text[0:100]\n",
    "\n",
    "all_characters = string.printable\n",
    "n_characters = len(all_characters)\n",
    "\n",
    "\n",
    "print(all_characters)"
   ]
  },
  {
   "cell_type": "code",
   "execution_count": null,
   "metadata": {},
   "outputs": [],
   "source": [
    "def random_chunk(chunk_len=200):\n",
    "    idx_start = random.randint(0,text_len-chunk_len)\n",
    "    idx_end = idx_start + chunk_len\n",
    "    return text[idx_start:idx_end]\n",
    "\n",
    "\n",
    "random_chunk()"
   ]
  },
  {
   "cell_type": "code",
   "execution_count": null,
   "metadata": {},
   "outputs": [],
   "source": [
    "def char2tensor(string):\n",
    "    n = len(string)\n",
    "    res = torch.LongTensor(n)\n",
    "    for i in range(n):\n",
    "        res[i] = all_characters.index(string[i])\n",
    "    return res"
   ]
  },
  {
   "cell_type": "code",
   "execution_count": null,
   "metadata": {},
   "outputs": [],
   "source": [
    "class CharRNN(nn.Module):\n",
    "    def __init__(self,dict_size,embed_size,hidden_size,num_layers=1):\n",
    "        super(CharRNN,self).__init__()\n",
    "        self.embed = nn.Embedding(dict_size,embed_size)\n",
    "        self.lstm = nn.LSTM(embed_size,hidden_size,num_layers)\n",
    "        self.fc = nn.Linear(hidden_size,dict_size)\n",
    "        \n",
    "        self.num_layers = num_layers\n",
    "        self.hidden_size = hidden_size\n",
    "def forward(self,x,h0,c0):\n",
    "    # seq_len x batch_size \n",
    "    o = self.embed(x) \n",
    "    # seq_len x batch_sizex dict_size\n",
    "    o,(h,c) = self.lstm(o,(h0,c0))\n",
    "    # seq_len x batch_size x hidden_size\n",
    "    o = o.view(-1,self.hidden_size)o = self.fc(o)\n",
    "    # seq_len*batch_size x dict_size\n",
    "    return o,h,c\n",
    "\n",
    "def init_hidden(self,batch_size):\n",
    "    return (torch.zeros(self.num_layers,batch_size,self.hidden_size),\n",
    "            torch.zeros(self.num_layers,batch_size,self.hidden_size))"
   ]
  },
  {
   "cell_type": "code",
   "execution_count": null,
   "metadata": {},
   "outputs": [],
   "source": [
    "# 因为LSTM的输入，batch size 在第二个维度\n",
    "def gen_data(batch_size,seq_len=100):\n",
    "    inputs = torch.LongTensor(seq_len,batch_size)\n",
    "    outputs = torch.LongTensor(seq_len,batch_size)\n",
    "    for i in range(batch_size):\n",
    "        strs = random_chunk(seq_len+1)\n",
    "        inputs[:,i] = char2tensor(strs[0:seq_len])\n",
    "        outputs[:,i] = char2tensor(strs[1:seq_len+1])\n",
    "    return inputs,outputs"
   ]
  },
  {
   "cell_type": "code",
   "execution_count": null,
   "metadata": {},
   "outputs": [],
   "source": [
    "inputs,outputs = gen_data(2,22)\n",
    "print(inputs[:,0])\n",
    "print(outputs[:,0])"
   ]
  },
  {
   "cell_type": "code",
   "execution_count": null,
   "metadata": {},
   "outputs": [],
   "source": [
    "net = CharRNN(n_characters,120,100,1)\n",
    "inputs,outputs = gen_data(2,9)\n",
    "h0,c0 = net.init_hidden(2)\n",
    "o,h,c = net(inputs,h0,c0)\n",
    "print(o.shape)"
   ]
  },
  {
   "cell_type": "code",
   "execution_count": null,
   "metadata": {},
   "outputs": [],
   "source": [
    "criterion = nn.CrossEntropyLoss()\n",
    "loss = criterion(o,outputs.view(-1))\n",
    "print(loss)"
   ]
  },
  {
   "cell_type": "code",
   "execution_count": null,
   "metadata": {},
   "outputs": [],
   "source": [
    "def train_batch(net,optimizer,criterion,batch_size,seq_len,device):\n",
    "    h0,c0 = net.init_hidden(batch_size)\n",
    "    inputs,outputs = gen_data(batch_size,seq_len)    \n",
    "    h0,c0,inputs,outputs = h0.to(device),c0.to(device),inputs.to(device),outputs.to(device)\n",
    "    \n",
    "    \n",
    "    optimizer.zero_grad()\n",
    "    logit,h,c = net(inputs,h0,c0)\n",
    "    loss = criterion(logit,outputs.view(-1))\n",
    "    loss.backward()\n",
    "    optimizer.step()\n",
    "    \n",
    "    return loss.item()"
   ]
  },
  {
   "cell_type": "code",
   "execution_count": null,
   "metadata": {},
   "outputs": [],
   "source": [
    "device = torch.device('cuda' if torch.cuda.is_available() else 'cpu')\n",
    "nsteps = 5000\n",
    "lr = 1e-3batch_size = 10\n",
    "seq_len = 100\n",
    "\n",
    "hidden_size = 200\n",
    "embed_size = 200\n",
    "num_layers = 2\n",
    "\n",
    "net = CharRNN(n_characters,embed_size,hidden_size,num_layers).to(device)\n",
    "optimizer = torch.optim.Adam(net.parameters(),lr=lr)\n",
    "scheduler = lr_scheduler.MultiStepLR(optimizer,milestones=[int(nsteps*0.8)],gamma=0.1)\n",
    "\n",
    "criterion = nn.CrossEntropyLoss()"
   ]
  },
  {
   "cell_type": "code",
   "execution_count": null,
   "metadata": {},
   "outputs": [],
   "source": [
    "loss_his = []\n",
    "time_start = time.time()\n",
    "for step in range(nsteps):\n",
    "    loss = train_batch(net,optimizer,criterion,batch_size,seq_len,device)\n",
    "    if step%100==0:\n",
    "        time_end = time.time()\n",
    "        print('%d/%d,%20took%20%.0f%20seconds\\t%20%.2e'%(step+1,nsteps,time_end-time_start,loss))\n",
    "        loss_his.append(loss)"
   ]
  },
  {
   "cell_type": "code",
   "execution_count": null,
   "metadata": {},
   "outputs": [],
   "source": [
    "import matplotlib\n",
    "%matplotlib inline\n",
    "import matplotlib.pyplot as plt\n",
    "\n",
    "plt.plot(loss_his)"
   ]
  },
  {
   "cell_type": "code",
   "execution_count": null,
   "metadata": {},
   "outputs": [],
   "source": [
    "def evaluate(net,char_start='I',len_pred=100,device=torch.device('cpu'),temperature=1):\n",
    "    h,c = net.init_hidden(1)\n",
    "    x = char2tensor(char_start).view(1,1)\n",
    "    h,c,x = h.to(device),c.to(device),x.to(device)\n",
    "    \n",
    "    res = [char_start]\n",
    "    for i in range(len_pred):\n",
    "        logit,h,c = net(x,h,c)\n",
    "        prob = logit.div(temperature).exp()\n",
    "        \n",
    "        x = torch.multinomial(prob,1)\n",
    "        idx = x.squeeze().item()\n",
    "        res.append(all_characters[idx])\n",
    "    return res"
   ]
  },
  {
   "cell_type": "code",
   "execution_count": null,
   "metadata": {},
   "outputs": [],
   "source": [
    "device = torch.device('cpu')\n",
    "net = net.to(device)"
   ]
  },
  {
   "cell_type": "code",
   "execution_count": null,
   "metadata": {},
   "outputs": [],
   "source": [
    "res = evaluate(net,'H',len_pred=20,device=device,temperature=2.0)\n",
    "print(''.join(res))"
   ]
  },
  {
   "cell_type": "code",
   "execution_count": null,
   "metadata": {},
   "outputs": [],
   "source": [
    "res = evaluate(net,'H',len_pred=20,device=device,temperature=0.2)\n",
    "print(''.join(res))\n",
    "\n",
    "res = evaluate(net,'H',len_pred=20,device=device,temperature=0.2)\n",
    "print(''.join(res))\n",
    "\n",
    "res = evaluate(net,'H',len_pred=20,device=device,temperature=0.2)\n",
    "print(''.join(res))\n",
    "\n",
    "res = evaluate(net,'H',len_pred=20,device=device,temperature=0.2)\n",
    "print(''.join(res))"
   ]
  }
 ],
 "metadata": {
  "kernelspec": {
   "display_name": "Python 3",
   "language": "python",
   "name": "python3"
  },
  "language_info": {
   "codemirror_mode": {
    "name": "ipython",
    "version": 3
   },
   "file_extension": ".py",
   "mimetype": "text/x-python",
   "name": "python",
   "nbconvert_exporter": "python",
   "pygments_lexer": "ipython3",
   "version": "3.7.3"
  }
 },
 "nbformat": 4,
 "nbformat_minor": 2
}
